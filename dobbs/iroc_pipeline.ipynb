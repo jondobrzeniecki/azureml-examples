{
 "cells": [
  {
   "cell_type": "code",
   "execution_count": 2,
   "id": "d649c797",
   "metadata": {},
   "outputs": [],
   "source": [
    "import os\n",
    "import azureml.core\n",
    "from azureml.core import Workspace, Experiment, Environment\n",
    "from azureml.core.conda_dependencies import CondaDependencies\n",
    "\n",
    "from azureml.pipeline.core import Pipeline\n",
    "from azureml.pipeline.steps import PythonScriptStep\n",
    "\n",
    "from azureml.core.compute import ComputeTarget, AmlCompute\n",
    "from azureml.core.compute_target import ComputeTargetException\n",
    "\n",
    "from azureml.pipeline.core.schedule import ScheduleRecurrence, Schedule\n",
    "\n",
    "from azureml.core.runconfig import RunConfiguration\n",
    "\n",
    "\n"
   ]
  },
  {
   "cell_type": "code",
   "execution_count": 5,
   "id": "34b0f370",
   "metadata": {},
   "outputs": [
    {
     "name": "stdout",
     "output_type": "stream",
     "text": [
      "ads-demo-aml\n",
      "Demos-ADS\n",
      "eastus\n",
      "f5052c6f-7974-48eb-b0ba-f390a5c40ab8\n"
     ]
    }
   ],
   "source": [
    "ws = Workspace.from_config()\n",
    "print(ws.name, ws.resource_group, ws.location, ws.subscription_id, sep = '\\n')"
   ]
  },
  {
   "cell_type": "code",
   "execution_count": 9,
   "id": "440d4178",
   "metadata": {},
   "outputs": [
    {
     "name": "stdout",
     "output_type": "stream",
     "text": [
      "creating new compute target\n",
      "InProgress....\n",
      "SucceededProvisioning operation finished, operation \"Succeeded\"\n",
      "Succeeded\n",
      "AmlCompute wait for completion finished\n",
      "\n",
      "Minimum number of nodes requested have been provisioned\n",
      "Azure Machine Learning Compute attached\n"
     ]
    }
   ],
   "source": [
    "aml_compute_target = \"hw-compute\"\n",
    "\n",
    "try: #Look for compute cluster\n",
    "    aml_compute = AmlCompute(ws, aml_compute_target)\n",
    "    print(\"found existing compute target.\")\n",
    "except ComputeTargetException: #Create compute cluster if not exists.\n",
    "    print(\"creating new compute target\")\n",
    "    \n",
    "    provisioning_config = AmlCompute.provisioning_configuration(vm_size = \"STANDARD_D2_V2\",\n",
    "                                                                min_nodes = 0, \n",
    "                                                                max_nodes = 4)    \n",
    "    aml_compute = ComputeTarget.create(ws, aml_compute_target, provisioning_config)\n",
    "    aml_compute.wait_for_completion(show_output=True, min_node_count=None, timeout_in_minutes=20)\n",
    "    \n",
    "print(\"Azure Machine Learning Compute attached\")"
   ]
  },
  {
   "cell_type": "code",
   "execution_count": 10,
   "id": "3f5ff803",
   "metadata": {},
   "outputs": [],
   "source": [
    "aml_compute.add_identity('SystemAssigned')"
   ]
  },
  {
   "cell_type": "code",
   "execution_count": null,
   "id": "2eeda840",
   "metadata": {},
   "outputs": [],
   "source": [
    "env = Environment(name='myinlineenv')\n",
    "\n",
    "conda_dep = CondaDependencies()\n",
    "conda_dep.add_conda_package(\"pyodbc\")\n",
    "\n",
    "env.python.conda_dependencies=conda_dep"
   ]
  },
  {
   "cell_type": "code",
   "execution_count": 8,
   "id": "1ed8c569",
   "metadata": {},
   "outputs": [
    {
     "ename": "NameError",
     "evalue": "name 'env' is not defined",
     "output_type": "error",
     "traceback": [
      "\u001b[1;31m---------------------------------------------------------------------------\u001b[0m",
      "\u001b[1;31mNameError\u001b[0m                                 Traceback (most recent call last)",
      "\u001b[1;32m<ipython-input-8-7489ba541d70>\u001b[0m in \u001b[0;36m<module>\u001b[1;34m\u001b[0m\n\u001b[0;32m      1\u001b[0m \u001b[0maml_run_config\u001b[0m \u001b[1;33m=\u001b[0m \u001b[0mRunConfiguration\u001b[0m\u001b[1;33m(\u001b[0m\u001b[1;33m)\u001b[0m\u001b[1;33m\u001b[0m\u001b[1;33m\u001b[0m\u001b[0m\n\u001b[0;32m      2\u001b[0m \u001b[0maml_run_config\u001b[0m\u001b[1;33m.\u001b[0m\u001b[0mtarget\u001b[0m \u001b[1;33m=\u001b[0m \u001b[0maml_compute_target\u001b[0m\u001b[1;33m\u001b[0m\u001b[1;33m\u001b[0m\u001b[0m\n\u001b[1;32m----> 3\u001b[1;33m \u001b[0maml_run_config\u001b[0m\u001b[1;33m.\u001b[0m\u001b[0menvironment\u001b[0m \u001b[1;33m=\u001b[0m \u001b[0menv\u001b[0m\u001b[1;33m\u001b[0m\u001b[1;33m\u001b[0m\u001b[0m\n\u001b[0m",
      "\u001b[1;31mNameError\u001b[0m: name 'env' is not defined"
     ]
    }
   ],
   "source": [
    "aml_run_config = RunConfiguration()\n",
    "aml_run_config.target = aml_compute_target\n",
    "aml_run_config.environment = env"
   ]
  },
  {
   "cell_type": "code",
   "execution_count": null,
   "id": "46065fa9",
   "metadata": {},
   "outputs": [
    {
     "data": {
      "text/plain": [
       "{\n",
       "    \"script\": null,\n",
       "    \"arguments\": [],\n",
       "    \"target\": \"hw-compute\",\n",
       "    \"framework\": \"Python\",\n",
       "    \"communicator\": \"None\",\n",
       "    \"maxRunDurationSeconds\": null,\n",
       "    \"nodeCount\": 1,\n",
       "    \"priority\": null,\n",
       "    \"environment\": {\n",
       "        \"name\": \"myinlineenv\",\n",
       "        \"version\": null,\n",
       "        \"environmentVariables\": {\n",
       "            \"EXAMPLE_ENV_VAR\": \"EXAMPLE_VALUE\"\n",
       "        },\n",
       "        \"python\": {\n",
       "            \"userManagedDependencies\": false,\n",
       "            \"interpreterPath\": \"python\",\n",
       "            \"condaDependenciesFile\": null,\n",
       "            \"baseCondaEnvironment\": null,\n",
       "            \"condaDependencies\": {\n",
       "                \"name\": \"project_environment\",\n",
       "                \"dependencies\": [\n",
       "                    \"python=3.6.2\",\n",
       "                    {\n",
       "                        \"pip\": [\n",
       "                            \"azureml-defaults\"\n",
       "                        ]\n",
       "                    },\n",
       "                    \"pyodbc\"\n",
       "                ],\n",
       "                \"channels\": [\n",
       "                    \"anaconda\",\n",
       "                    \"conda-forge\"\n",
       "                ]\n",
       "            }\n",
       "        },\n",
       "        \"docker\": {\n",
       "            \"enabled\": false,\n",
       "            \"baseImage\": \"mcr.microsoft.com/azureml/openmpi3.1.2-ubuntu18.04:20210806.v1\",\n",
       "            \"baseDockerfile\": null,\n",
       "            \"sharedVolumes\": true,\n",
       "            \"shmSize\": \"2g\",\n",
       "            \"arguments\": [],\n",
       "            \"baseImageRegistry\": {\n",
       "                \"address\": null,\n",
       "                \"username\": null,\n",
       "                \"password\": null,\n",
       "                \"registryIdentity\": null\n",
       "            },\n",
       "            \"platform\": {\n",
       "                \"os\": \"Linux\",\n",
       "                \"architecture\": \"amd64\"\n",
       "            }\n",
       "        },\n",
       "        \"spark\": {\n",
       "            \"repositories\": [],\n",
       "            \"packages\": [],\n",
       "            \"precachePackages\": true\n",
       "        },\n",
       "        \"databricks\": {\n",
       "            \"mavenLibraries\": [],\n",
       "            \"pypiLibraries\": [],\n",
       "            \"rcranLibraries\": [],\n",
       "            \"jarLibraries\": [],\n",
       "            \"eggLibraries\": []\n",
       "        },\n",
       "        \"r\": null,\n",
       "        \"inferencingStackVersion\": null\n",
       "    },\n",
       "    \"history\": {\n",
       "        \"outputCollection\": true,\n",
       "        \"snapshotProject\": true,\n",
       "        \"directoriesToWatch\": [\n",
       "            \"logs\"\n",
       "        ]\n",
       "    },\n",
       "    \"spark\": {\n",
       "        \"configuration\": {\n",
       "            \"spark.app.name\": \"Azure ML Experiment\",\n",
       "            \"spark.yarn.maxAppAttempts\": 1\n",
       "        }\n",
       "    },\n",
       "    \"docker\": {\n",
       "        \"useDocker\": false,\n",
       "        \"sharedVolumes\": true,\n",
       "        \"arguments\": [],\n",
       "        \"shmSize\": \"2g\"\n",
       "    },\n",
       "    \"hdi\": {\n",
       "        \"yarnDeployMode\": \"cluster\"\n",
       "    },\n",
       "    \"tensorflow\": {\n",
       "        \"workerCount\": 1,\n",
       "        \"parameterServerCount\": 1\n",
       "    },\n",
       "    \"mpi\": {\n",
       "        \"processCountPerNode\": 1,\n",
       "        \"nodeCount\": 1\n",
       "    },\n",
       "    \"pytorch\": {\n",
       "        \"communicationBackend\": \"nccl\",\n",
       "        \"processCount\": null,\n",
       "        \"nodeCount\": 1\n",
       "    },\n",
       "    \"paralleltask\": {\n",
       "        \"maxRetriesPerWorker\": 0,\n",
       "        \"workerCountPerNode\": 1,\n",
       "        \"terminalExitCodes\": null\n",
       "    },\n",
       "    \"dataReferences\": {},\n",
       "    \"data\": {},\n",
       "    \"outputData\": {},\n",
       "    \"sourceDirectoryDataStore\": null,\n",
       "    \"amlcompute\": {\n",
       "        \"vmSize\": null,\n",
       "        \"vmPriority\": null,\n",
       "        \"retainCluster\": false,\n",
       "        \"name\": null,\n",
       "        \"clusterMaxNodeCount\": null\n",
       "    },\n",
       "    \"credentialPassthrough\": false,\n",
       "    \"command\": \"\",\n",
       "    \"environmentVariables\": {},\n",
       "    \"applicationEndpoints\": {}\n",
       "}"
      ]
     },
     "execution_count": 148,
     "metadata": {},
     "output_type": "execute_result"
    }
   ],
   "source": [
    "aml_run_config"
   ]
  },
  {
   "cell_type": "code",
   "execution_count": null,
   "id": "eee3c932",
   "metadata": {},
   "outputs": [
    {
     "name": "stdout",
     "output_type": "stream",
     "text": [
      "Source directory for the step is /mnt/batch/tasks/shared/LS_root/mounts/clusters/jodobrze1/code/JaceTest.\n",
      "Step1 created\n"
     ]
    }
   ],
   "source": [
    "source_directory = './'\n",
    "print('Source directory for the step is {}.'.format(os.path.realpath(source_directory)))\n",
    "\n",
    "step1 = PythonScriptStep(name=\"library_step\",\n",
    "                         script_name=\"iroc_library_test.py\", \n",
    "                         compute_target=aml_compute,\n",
    "                         runconfig = aml_run_config,\n",
    "                         source_directory=source_directory,\n",
    "                         allow_reuse=False)\n",
    "print(\"Step1 created\")"
   ]
  },
  {
   "cell_type": "code",
   "execution_count": null,
   "id": "ebaf9b4d",
   "metadata": {},
   "outputs": [
    {
     "name": "stdout",
     "output_type": "stream",
     "text": [
      "Pipeline is built\n"
     ]
    }
   ],
   "source": [
    "steps = [step1]\n",
    "\n",
    "pipeline1 = Pipeline(workspace=ws, steps=steps)\n",
    "print (\"Pipeline is built\")"
   ]
  },
  {
   "cell_type": "code",
   "execution_count": null,
   "id": "e94171be",
   "metadata": {},
   "outputs": [
    {
     "name": "stdout",
     "output_type": "stream",
     "text": [
      "Step library_step is ready to be created [3661e29d]\n",
      "Pipeline validation complete\n"
     ]
    }
   ],
   "source": [
    "pipeline1.validate()\n",
    "print(\"Pipeline validation complete\")"
   ]
  },
  {
   "cell_type": "code",
   "execution_count": null,
   "id": "50402bb2",
   "metadata": {},
   "outputs": [
    {
     "name": "stdout",
     "output_type": "stream",
     "text": [
      "Created step library_step [3661e29d][bc39a38a-f5e1-4cd1-b830-9cae8c1ab7d3], (This step will run and generate new outputs)\n",
      "Submitted PipelineRun f46f345a-67af-46f1-b3d3-ed4e4425907f\n",
      "Link to Azure Machine Learning Portal: https://ml.azure.com/runs/f46f345a-67af-46f1-b3d3-ed4e4425907f?wsid=/subscriptions/f5052c6f-7974-48eb-b0ba-f390a5c40ab8/resourcegroups/demos-ads/workspaces/ads-demo-aml&tid=72f988bf-86f1-41af-91ab-2d7cd011db47\n",
      "Pipeline is submitted for execution\n"
     ]
    }
   ],
   "source": [
    "#Optional experiment run.\n",
    "pipeline_run1 = Experiment(ws, 'iroc_library1').submit(pipeline1, regenerate_outputs=False)\n",
    "print(\"Pipeline is submitted for execution\")"
   ]
  },
  {
   "cell_type": "code",
   "execution_count": null,
   "id": "a6d78651",
   "metadata": {},
   "outputs": [
    {
     "data": {
      "text/html": [
       "<table style=\"width:100%\"><tr><th>Name</th><th>Id</th><th>Status</th><th>Endpoint</th></tr><tr><td>iroc_library1_pipeline</td><td><a href=\"https://ml.azure.com/pipelines/aba824d3-7532-4de5-8391-ec9738aa16b2?wsid=/subscriptions/f5052c6f-7974-48eb-b0ba-f390a5c40ab8/resourcegroups/demos-ads/workspaces/ads-demo-aml\" target=\"_blank\" rel=\"noopener\">aba824d3-7532-4de5-8391-ec9738aa16b2</a></td><td>Active</td><td><a href=\"https://eastus.api.azureml.ms/pipelines/v1.0/subscriptions/f5052c6f-7974-48eb-b0ba-f390a5c40ab8/resourceGroups/demos-ads/providers/Microsoft.MachineLearningServices/workspaces/ads-demo-aml/PipelineRuns/PipelineSubmit/aba824d3-7532-4de5-8391-ec9738aa16b2\" target=\"_blank\" rel=\"noopener\">REST Endpoint</a></td></tr></table>"
      ],
      "text/plain": [
       "Pipeline(Name: iroc_library1_pipeline,\n",
       "Id: aba824d3-7532-4de5-8391-ec9738aa16b2,\n",
       "Status: Active,\n",
       "Endpoint: https://eastus.api.azureml.ms/pipelines/v1.0/subscriptions/f5052c6f-7974-48eb-b0ba-f390a5c40ab8/resourceGroups/demos-ads/providers/Microsoft.MachineLearningServices/workspaces/ads-demo-aml/PipelineRuns/PipelineSubmit/aba824d3-7532-4de5-8391-ec9738aa16b2)"
      ]
     },
     "execution_count": 103,
     "metadata": {},
     "output_type": "execute_result"
    }
   ],
   "source": [
    "pipeline1.publish(name='iroc_library1_pipeline')"
   ]
  },
  {
   "cell_type": "code",
   "execution_count": null,
   "id": "d87e7f00",
   "metadata": {},
   "outputs": [
    {
     "name": "stdout",
     "output_type": "stream",
     "text": [
      "<azureml.core.keyvault.Keyvault object at 0x7fa52be9ea20>\n"
     ]
    }
   ],
   "source": [
    "keyvault = ws.get_default_keyvault()\n",
    "\n",
    "print(keyvault)"
   ]
  },
  {
   "cell_type": "code",
   "execution_count": null,
   "id": "0e9e10e5",
   "metadata": {},
   "outputs": [],
   "source": [
    "keyvault.set_secret(name=\"connstring\", value = \"hello world\")"
   ]
  },
  {
   "cell_type": "code",
   "execution_count": null,
   "id": "457a1607",
   "metadata": {},
   "outputs": [],
   "source": []
  }
 ],
 "metadata": {
  "interpreter": {
   "hash": "a4c6afd7f173e0e931b0843fe6a0c2993fb0269572e807aff8dc4b63e60c94bb"
  },
  "kernelspec": {
   "display_name": "Python 3.6 - AzureML",
   "language": "python",
   "name": "python3"
  },
  "language_info": {
   "codemirror_mode": {
    "name": "ipython",
    "version": 3
   },
   "file_extension": ".py",
   "mimetype": "text/x-python",
   "name": "python",
   "nbconvert_exporter": "python",
   "pygments_lexer": "ipython3",
   "version": "3.7.3"
  }
 },
 "nbformat": 4,
 "nbformat_minor": 5
}
