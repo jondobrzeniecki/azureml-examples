{
 "cells": [
  {
   "cell_type": "markdown",
   "metadata": {},
   "source": [
    "Copyright (c) Microsoft Corporation. All rights reserved.\n",
    "\n",
    "Licensed under the MIT License."
   ]
  },
  {
   "cell_type": "markdown",
   "metadata": {},
   "source": [
    "![Impressions](https://PixelServer20190423114238.azurewebsites.net/api/impressions/MachineLearningNotebooks/how-to-use-azureml/automated-machine-learning/forecasting-orange-juice-sales/auto-ml-forecasting-orange-juice-sales.png)"
   ]
  },
  {
   "cell_type": "markdown",
   "metadata": {},
   "source": [
    "# Automated Machine Learning\n",
    "_**Orange Juice Sales Forecasting**_\n",
    "\n",
    "## Contents\n",
    "1. [Introduction](#introduction)\n",
    "1. [Setup](#setup)\n",
    "1. [Compute](#compute)\n",
    "1. [Data](#data)\n",
    "1. [Train](#train)\n",
    "1. [Forecast](#forecast)\n",
    "1. [Operationalize](#operationalize)"
   ]
  },
  {
   "cell_type": "markdown",
   "metadata": {},
   "source": [
    "## Introduction<a id=\"introduction\"></a>\n",
    "In this example, we use AutoML to train, select, and operationalize a time-series forecasting model for multiple time-series.\n",
    "\n",
    "Make sure you have executed the [configuration notebook](../../../configuration.ipynb) before running this notebook.\n",
    "\n",
    "The examples in the follow code samples use the University of Chicago's Dominick's Finer Foods dataset to forecast orange juice sales. Dominick's was a grocery chain in the Chicago metropolitan area."
   ]
  },
  {
   "cell_type": "markdown",
   "metadata": {},
   "source": [
    "## Setup<a id=\"setup\"></a>"
   ]
  },
  {
   "cell_type": "code",
   "execution_count": 2,
   "metadata": {},
   "outputs": [],
   "source": [
    "import json\n",
    "import logging\n",
    "\n",
    "import azureml.core\n",
    "import pandas as pd\n",
    "from azureml.automl.core.featurization import FeaturizationConfig\n",
    "from azureml.core.experiment import Experiment\n",
    "from azureml.core.workspace import Workspace\n",
    "from azureml.train.automl import AutoMLConfig"
   ]
  },
  {
   "cell_type": "markdown",
   "metadata": {},
   "source": [
    "This notebook is compatible with Azure ML SDK version 1.35.0 or later."
   ]
  },
  {
   "cell_type": "code",
   "execution_count": 3,
   "metadata": {},
   "outputs": [
    {
     "name": "stdout",
     "output_type": "stream",
     "text": [
      "You are currently using version 1.37.0 of the Azure ML SDK\n"
     ]
    }
   ],
   "source": [
    "print(\"You are currently using version\", azureml.core.VERSION, \"of the Azure ML SDK\")"
   ]
  },
  {
   "cell_type": "markdown",
   "metadata": {},
   "source": [
    "As part of the setup you have already created a <b>Workspace</b>. To run AutoML, you also need to create an <b>Experiment</b>. An Experiment corresponds to a prediction problem you are trying to solve, while a Run corresponds to a specific approach to the problem. "
   ]
  },
  {
   "cell_type": "code",
   "execution_count": 4,
   "metadata": {},
   "outputs": [],
   "source": [
    "ws = Workspace.from_config()"
   ]
  },
  {
   "cell_type": "code",
   "execution_count": 5,
   "metadata": {},
   "outputs": [
    {
     "data": {
      "text/html": [
       "<div>\n",
       "<style scoped>\n",
       "    .dataframe tbody tr th:only-of-type {\n",
       "        vertical-align: middle;\n",
       "    }\n",
       "\n",
       "    .dataframe tbody tr th {\n",
       "        vertical-align: top;\n",
       "    }\n",
       "\n",
       "    .dataframe thead th {\n",
       "        text-align: right;\n",
       "    }\n",
       "</style>\n",
       "<table border=\"1\" class=\"dataframe\">\n",
       "  <thead>\n",
       "    <tr style=\"text-align: right;\">\n",
       "      <th></th>\n",
       "      <th></th>\n",
       "    </tr>\n",
       "  </thead>\n",
       "  <tbody>\n",
       "    <tr>\n",
       "      <th>Subscription ID</th>\n",
       "      <td>f5052c6f-7974-48eb-b0ba-f390a5c40ab8</td>\n",
       "    </tr>\n",
       "    <tr>\n",
       "      <th>Workspace</th>\n",
       "      <td>ads-demo-aml</td>\n",
       "    </tr>\n",
       "    <tr>\n",
       "      <th>SKU</th>\n",
       "      <td>Basic</td>\n",
       "    </tr>\n",
       "    <tr>\n",
       "      <th>Resource Group</th>\n",
       "      <td>Demos-ADS</td>\n",
       "    </tr>\n",
       "    <tr>\n",
       "      <th>Location</th>\n",
       "      <td>eastus</td>\n",
       "    </tr>\n",
       "    <tr>\n",
       "      <th>Run History Name</th>\n",
       "      <td>automl-ojforecasting</td>\n",
       "    </tr>\n",
       "  </tbody>\n",
       "</table>\n",
       "</div>"
      ],
      "text/plain": [
       "                                                      \n",
       "Subscription ID   f5052c6f-7974-48eb-b0ba-f390a5c40ab8\n",
       "Workspace         ads-demo-aml                        \n",
       "SKU               Basic                               \n",
       "Resource Group    Demos-ADS                           \n",
       "Location          eastus                              \n",
       "Run History Name  automl-ojforecasting                "
      ]
     },
     "execution_count": 5,
     "metadata": {},
     "output_type": "execute_result"
    }
   ],
   "source": [
    "# choose a name for the run history container in the workspace\n",
    "experiment_name = \"automl-ojforecasting\"\n",
    "\n",
    "experiment = Experiment(ws, experiment_name)\n",
    "\n",
    "output = {}\n",
    "output[\"Subscription ID\"] = ws.subscription_id\n",
    "output[\"Workspace\"] = ws.name\n",
    "output[\"SKU\"] = ws.sku\n",
    "output[\"Resource Group\"] = ws.resource_group\n",
    "output[\"Location\"] = ws.location\n",
    "output[\"Run History Name\"] = experiment_name\n",
    "pd.set_option(\"display.max_colwidth\", -1)\n",
    "outputDf = pd.DataFrame(data=output, index=[\"\"])\n",
    "outputDf.T"
   ]
  },
  {
   "cell_type": "markdown",
   "metadata": {},
   "source": [
    "## Compute<a id=\"compute\"></a>\n",
    "You will need to create a [compute target](https://docs.microsoft.com/en-us/azure/machine-learning/service/how-to-set-up-training-targets#amlcompute) for your AutoML run. In this tutorial, you create AmlCompute as your training compute resource.\n",
    "\n",
    "> Note that if you have an AzureML Data Scientist role, you will not have permission to create compute resources. Talk to your workspace or IT admin to create the compute targets described in this section, if they do not already exist.\n",
    "\n",
    "#### Creation of AmlCompute takes approximately 5 minutes. \n",
    "If the AmlCompute with that name is already in your workspace this code will skip the creation process.\n",
    "As with other Azure services, there are limits on certain resources (e.g. AmlCompute) associated with the Azure Machine Learning service. Please read [this article](https://docs.microsoft.com/en-us/azure/machine-learning/service/how-to-manage-quotas) on the default limits and how to request more quota."
   ]
  },
  {
   "cell_type": "code",
   "execution_count": 6,
   "metadata": {},
   "outputs": [
    {
     "name": "stdout",
     "output_type": "stream",
     "text": [
      "Found existing cluster, use it.\n",
      "Succeeded\n",
      "AmlCompute wait for completion finished\n",
      "\n",
      "Minimum number of nodes requested have been provisioned\n"
     ]
    }
   ],
   "source": [
    "from azureml.core.compute import ComputeTarget, AmlCompute\n",
    "from azureml.core.compute_target import ComputeTargetException\n",
    "\n",
    "# Choose a name for your CPU cluster\n",
    "amlcompute_cluster_name = \"oj-cluster\"\n",
    "\n",
    "# Verify that cluster does not exist already\n",
    "try:\n",
    "    compute_target = ComputeTarget(workspace=ws, name=amlcompute_cluster_name)\n",
    "    print(\"Found existing cluster, use it.\")\n",
    "except ComputeTargetException:\n",
    "    compute_config = AmlCompute.provisioning_configuration(\n",
    "        vm_size=\"STANDARD_D12_V2\", max_nodes=6\n",
    "    )\n",
    "    compute_target = ComputeTarget.create(ws, amlcompute_cluster_name, compute_config)\n",
    "\n",
    "compute_target.wait_for_completion(show_output=True)"
   ]
  },
  {
   "cell_type": "markdown",
   "metadata": {},
   "source": [
    "## Data<a id=\"data\"></a>\n",
    "You are now ready to load the historical orange juice sales data. We will load the CSV file into a plain pandas DataFrame; the time column in the CSV is called _WeekStarting_, so it will be specially parsed into the datetime type."
   ]
  },
  {
   "cell_type": "code",
   "execution_count": 7,
   "metadata": {},
   "outputs": [
    {
     "data": {
      "text/html": [
       "<div>\n",
       "<style scoped>\n",
       "    .dataframe tbody tr th:only-of-type {\n",
       "        vertical-align: middle;\n",
       "    }\n",
       "\n",
       "    .dataframe tbody tr th {\n",
       "        vertical-align: top;\n",
       "    }\n",
       "\n",
       "    .dataframe thead th {\n",
       "        text-align: right;\n",
       "    }\n",
       "</style>\n",
       "<table border=\"1\" class=\"dataframe\">\n",
       "  <thead>\n",
       "    <tr style=\"text-align: right;\">\n",
       "      <th></th>\n",
       "      <th>WeekStarting</th>\n",
       "      <th>Store</th>\n",
       "      <th>Brand</th>\n",
       "      <th>Quantity</th>\n",
       "      <th>Advert</th>\n",
       "      <th>Price</th>\n",
       "      <th>Age60</th>\n",
       "      <th>COLLEGE</th>\n",
       "      <th>INCOME</th>\n",
       "      <th>Hincome150</th>\n",
       "      <th>Large HH</th>\n",
       "      <th>Minorities</th>\n",
       "      <th>WorkingWoman</th>\n",
       "      <th>SSTRDIST</th>\n",
       "      <th>SSTRVOL</th>\n",
       "      <th>CPDIST5</th>\n",
       "      <th>CPWVOL5</th>\n",
       "    </tr>\n",
       "  </thead>\n",
       "  <tbody>\n",
       "    <tr>\n",
       "      <th>0</th>\n",
       "      <td>1990-06-14</td>\n",
       "      <td>2</td>\n",
       "      <td>dominicks</td>\n",
       "      <td>10560</td>\n",
       "      <td>1</td>\n",
       "      <td>1.59</td>\n",
       "      <td>0.232865</td>\n",
       "      <td>0.248935</td>\n",
       "      <td>10.553205</td>\n",
       "      <td>0.463887</td>\n",
       "      <td>0.103953</td>\n",
       "      <td>0.114280</td>\n",
       "      <td>0.303585</td>\n",
       "      <td>2.110122</td>\n",
       "      <td>1.142857</td>\n",
       "      <td>1.927280</td>\n",
       "      <td>0.376927</td>\n",
       "    </tr>\n",
       "    <tr>\n",
       "      <th>1</th>\n",
       "      <td>1990-06-14</td>\n",
       "      <td>2</td>\n",
       "      <td>minute.maid</td>\n",
       "      <td>4480</td>\n",
       "      <td>0</td>\n",
       "      <td>3.17</td>\n",
       "      <td>0.232865</td>\n",
       "      <td>0.248935</td>\n",
       "      <td>10.553205</td>\n",
       "      <td>0.463887</td>\n",
       "      <td>0.103953</td>\n",
       "      <td>0.114280</td>\n",
       "      <td>0.303585</td>\n",
       "      <td>2.110122</td>\n",
       "      <td>1.142857</td>\n",
       "      <td>1.927280</td>\n",
       "      <td>0.376927</td>\n",
       "    </tr>\n",
       "    <tr>\n",
       "      <th>2</th>\n",
       "      <td>1990-06-14</td>\n",
       "      <td>2</td>\n",
       "      <td>tropicana</td>\n",
       "      <td>8256</td>\n",
       "      <td>0</td>\n",
       "      <td>3.87</td>\n",
       "      <td>0.232865</td>\n",
       "      <td>0.248935</td>\n",
       "      <td>10.553205</td>\n",
       "      <td>0.463887</td>\n",
       "      <td>0.103953</td>\n",
       "      <td>0.114280</td>\n",
       "      <td>0.303585</td>\n",
       "      <td>2.110122</td>\n",
       "      <td>1.142857</td>\n",
       "      <td>1.927280</td>\n",
       "      <td>0.376927</td>\n",
       "    </tr>\n",
       "    <tr>\n",
       "      <th>3</th>\n",
       "      <td>1990-06-14</td>\n",
       "      <td>5</td>\n",
       "      <td>dominicks</td>\n",
       "      <td>1792</td>\n",
       "      <td>1</td>\n",
       "      <td>1.59</td>\n",
       "      <td>0.117368</td>\n",
       "      <td>0.321226</td>\n",
       "      <td>10.922371</td>\n",
       "      <td>0.535883</td>\n",
       "      <td>0.103092</td>\n",
       "      <td>0.053875</td>\n",
       "      <td>0.410568</td>\n",
       "      <td>3.801998</td>\n",
       "      <td>0.681818</td>\n",
       "      <td>1.600573</td>\n",
       "      <td>0.736307</td>\n",
       "    </tr>\n",
       "    <tr>\n",
       "      <th>4</th>\n",
       "      <td>1990-06-14</td>\n",
       "      <td>5</td>\n",
       "      <td>minute.maid</td>\n",
       "      <td>4224</td>\n",
       "      <td>0</td>\n",
       "      <td>2.99</td>\n",
       "      <td>0.117368</td>\n",
       "      <td>0.321226</td>\n",
       "      <td>10.922371</td>\n",
       "      <td>0.535883</td>\n",
       "      <td>0.103092</td>\n",
       "      <td>0.053875</td>\n",
       "      <td>0.410568</td>\n",
       "      <td>3.801998</td>\n",
       "      <td>0.681818</td>\n",
       "      <td>1.600573</td>\n",
       "      <td>0.736307</td>\n",
       "    </tr>\n",
       "  </tbody>\n",
       "</table>\n",
       "</div>"
      ],
      "text/plain": [
       "  WeekStarting  Store        Brand  Quantity  Advert  Price     Age60  \\\n",
       "0 1990-06-14    2      dominicks    10560     1       1.59   0.232865   \n",
       "1 1990-06-14    2      minute.maid  4480      0       3.17   0.232865   \n",
       "2 1990-06-14    2      tropicana    8256      0       3.87   0.232865   \n",
       "3 1990-06-14    5      dominicks    1792      1       1.59   0.117368   \n",
       "4 1990-06-14    5      minute.maid  4224      0       2.99   0.117368   \n",
       "\n",
       "    COLLEGE     INCOME  Hincome150  Large HH  Minorities  WorkingWoman  \\\n",
       "0  0.248935  10.553205  0.463887    0.103953  0.114280    0.303585       \n",
       "1  0.248935  10.553205  0.463887    0.103953  0.114280    0.303585       \n",
       "2  0.248935  10.553205  0.463887    0.103953  0.114280    0.303585       \n",
       "3  0.321226  10.922371  0.535883    0.103092  0.053875    0.410568       \n",
       "4  0.321226  10.922371  0.535883    0.103092  0.053875    0.410568       \n",
       "\n",
       "   SSTRDIST   SSTRVOL   CPDIST5   CPWVOL5  \n",
       "0  2.110122  1.142857  1.927280  0.376927  \n",
       "1  2.110122  1.142857  1.927280  0.376927  \n",
       "2  2.110122  1.142857  1.927280  0.376927  \n",
       "3  3.801998  0.681818  1.600573  0.736307  \n",
       "4  3.801998  0.681818  1.600573  0.736307  "
      ]
     },
     "execution_count": 7,
     "metadata": {},
     "output_type": "execute_result"
    }
   ],
   "source": [
    "time_column_name = \"WeekStarting\"\n",
    "data = pd.read_csv(\"dominicks_OJ.csv\", parse_dates=[time_column_name])\n",
    "\n",
    "# Drop the columns 'logQuantity' as it is a leaky feature.\n",
    "data.drop(\"logQuantity\", axis=1, inplace=True)\n",
    "\n",
    "data.head()"
   ]
  },
  {
   "cell_type": "markdown",
   "metadata": {},
   "source": [
    "Each row in the DataFrame holds a quantity of weekly sales for an OJ brand at a single store. The data also includes the sales price, a flag indicating if the OJ brand was advertised in the store that week, and some customer demographic information based on the store location. For historical reasons, the data also include the logarithm of the sales quantity. The Dominick's grocery data is commonly used to illustrate econometric modeling techniques where logarithms of quantities are generally preferred.    \n",
    "\n",
    "The task is now to build a time-series model for the _Quantity_ column. It is important to note that this dataset is comprised of many individual time-series - one for each unique combination of _Store_ and _Brand_. To distinguish the individual time-series, we define the **time_series_id_column_names** - the columns whose values determine the boundaries between time-series: "
   ]
  },
  {
   "cell_type": "code",
   "execution_count": 8,
   "metadata": {},
   "outputs": [
    {
     "name": "stdout",
     "output_type": "stream",
     "text": [
      "Data contains 249 individual time-series.\n"
     ]
    }
   ],
   "source": [
    "time_series_id_column_names = [\"Store\", \"Brand\"]\n",
    "nseries = data.groupby(time_series_id_column_names).ngroups\n",
    "print(\"Data contains {0} individual time-series.\".format(nseries))"
   ]
  },
  {
   "cell_type": "markdown",
   "metadata": {},
   "source": [
    "For demonstration purposes, we extract sales time-series for just a few of the stores:"
   ]
  },
  {
   "cell_type": "code",
   "execution_count": 9,
   "metadata": {},
   "outputs": [
    {
     "name": "stdout",
     "output_type": "stream",
     "text": [
      "Data subset contains 9 individual time-series.\n"
     ]
    }
   ],
   "source": [
    "use_stores = [2, 5, 8]\n",
    "data_subset = data[data.Store.isin(use_stores)]\n",
    "nseries = data_subset.groupby(time_series_id_column_names).ngroups\n",
    "print(\"Data subset contains {0} individual time-series.\".format(nseries))"
   ]
  },
  {
   "cell_type": "markdown",
   "metadata": {},
   "source": [
    "### Data Splitting\n",
    "We now split the data into a training and a testing set for later forecast evaluation. The test set will contain the final 20 weeks of observed sales for each time-series. The splits should be stratified by series, so we use a group-by statement on the time series identifier columns."
   ]
  },
  {
   "cell_type": "code",
   "execution_count": 10,
   "metadata": {},
   "outputs": [],
   "source": [
    "n_test_periods = 20\n",
    "\n",
    "\n",
    "def split_last_n_by_series_id(df, n):\n",
    "    \"\"\"Group df by series identifiers and split on last n rows for each group.\"\"\"\n",
    "    df_grouped = df.sort_values(time_column_name).groupby(  # Sort by ascending time\n",
    "        time_series_id_column_names, group_keys=False\n",
    "    )\n",
    "    df_head = df_grouped.apply(lambda dfg: dfg.iloc[:-n])\n",
    "    df_tail = df_grouped.apply(lambda dfg: dfg.iloc[-n:])\n",
    "    return df_head, df_tail\n",
    "\n",
    "\n",
    "train, test = split_last_n_by_series_id(data_subset, n_test_periods)"
   ]
  },
  {
   "cell_type": "markdown",
   "metadata": {},
   "source": [
    "### Upload data to datastore\n",
    "The [Machine Learning service workspace](https://docs.microsoft.com/en-us/azure/machine-learning/service/concept-workspace), is paired with the storage account, which contains the default data store. We will use it to upload the train and test data and create [tabular datasets](https://docs.microsoft.com/en-us/python/api/azureml-core/azureml.data.tabulardataset?view=azure-ml-py) for training and testing. A tabular dataset defines a series of lazily-evaluated, immutable operations to load data from the data source into tabular representation."
   ]
  },
  {
   "cell_type": "code",
   "execution_count": 11,
   "metadata": {},
   "outputs": [
    {
     "name": "stdout",
     "output_type": "stream",
     "text": [
      "Validating arguments.\n",
      "Arguments validated.\n",
      "Successfully obtained datastore reference and path.\n",
      "Uploading file to dataset//13b3b87e-d4fd-478c-81b1-1d7977abf0ea/\n",
      "Successfully uploaded file to datastore.\n",
      "Creating and registering a new dataset.\n",
      "Successfully created and registered a new dataset.\n",
      "Validating arguments.\n",
      "Arguments validated.\n",
      "Successfully obtained datastore reference and path.\n",
      "Uploading file to dataset//bf046d0a-8896-4a48-85a9-d58eea2a84db/\n",
      "Successfully uploaded file to datastore.\n",
      "Creating and registering a new dataset.\n",
      "Successfully created and registered a new dataset.\n"
     ]
    }
   ],
   "source": [
    "from azureml.data.dataset_factory import TabularDatasetFactory\n",
    "\n",
    "datastore = ws.get_default_datastore()\n",
    "train_dataset = TabularDatasetFactory.register_pandas_dataframe(\n",
    "    train, target=(datastore, \"dataset/\"), name=\"dominicks_OJ_train\"\n",
    ")\n",
    "test_dataset = TabularDatasetFactory.register_pandas_dataframe(\n",
    "    test, target=(datastore, \"dataset/\"), name=\"dominicks_OJ_test\"\n",
    ")"
   ]
  },
  {
   "cell_type": "markdown",
   "metadata": {},
   "source": [
    "### Create dataset for training"
   ]
  },
  {
   "cell_type": "code",
   "execution_count": 12,
   "metadata": {},
   "outputs": [
    {
     "data": {
      "text/html": [
       "<div>\n",
       "<style scoped>\n",
       "    .dataframe tbody tr th:only-of-type {\n",
       "        vertical-align: middle;\n",
       "    }\n",
       "\n",
       "    .dataframe tbody tr th {\n",
       "        vertical-align: top;\n",
       "    }\n",
       "\n",
       "    .dataframe thead th {\n",
       "        text-align: right;\n",
       "    }\n",
       "</style>\n",
       "<table border=\"1\" class=\"dataframe\">\n",
       "  <thead>\n",
       "    <tr style=\"text-align: right;\">\n",
       "      <th></th>\n",
       "      <th>WeekStarting</th>\n",
       "      <th>Store</th>\n",
       "      <th>Brand</th>\n",
       "      <th>Quantity</th>\n",
       "      <th>Advert</th>\n",
       "      <th>Price</th>\n",
       "      <th>Age60</th>\n",
       "      <th>COLLEGE</th>\n",
       "      <th>INCOME</th>\n",
       "      <th>Hincome150</th>\n",
       "      <th>Large HH</th>\n",
       "      <th>Minorities</th>\n",
       "      <th>WorkingWoman</th>\n",
       "      <th>SSTRDIST</th>\n",
       "      <th>SSTRVOL</th>\n",
       "      <th>CPDIST5</th>\n",
       "      <th>CPWVOL5</th>\n",
       "    </tr>\n",
       "  </thead>\n",
       "  <tbody>\n",
       "    <tr>\n",
       "      <th>847</th>\n",
       "      <td>1992-04-09</td>\n",
       "      <td>8</td>\n",
       "      <td>tropicana</td>\n",
       "      <td>16192</td>\n",
       "      <td>0</td>\n",
       "      <td>2.50</td>\n",
       "      <td>0.252394</td>\n",
       "      <td>0.095173</td>\n",
       "      <td>10.59701</td>\n",
       "      <td>0.054227</td>\n",
       "      <td>0.13175</td>\n",
       "      <td>0.035243</td>\n",
       "      <td>0.283075</td>\n",
       "      <td>2.636333</td>\n",
       "      <td>1.5</td>\n",
       "      <td>2.905384</td>\n",
       "      <td>0.641016</td>\n",
       "    </tr>\n",
       "    <tr>\n",
       "      <th>848</th>\n",
       "      <td>1992-04-16</td>\n",
       "      <td>8</td>\n",
       "      <td>tropicana</td>\n",
       "      <td>6528</td>\n",
       "      <td>0</td>\n",
       "      <td>2.89</td>\n",
       "      <td>0.252394</td>\n",
       "      <td>0.095173</td>\n",
       "      <td>10.59701</td>\n",
       "      <td>0.054227</td>\n",
       "      <td>0.13175</td>\n",
       "      <td>0.035243</td>\n",
       "      <td>0.283075</td>\n",
       "      <td>2.636333</td>\n",
       "      <td>1.5</td>\n",
       "      <td>2.905384</td>\n",
       "      <td>0.641016</td>\n",
       "    </tr>\n",
       "    <tr>\n",
       "      <th>849</th>\n",
       "      <td>1992-04-23</td>\n",
       "      <td>8</td>\n",
       "      <td>tropicana</td>\n",
       "      <td>8320</td>\n",
       "      <td>0</td>\n",
       "      <td>2.89</td>\n",
       "      <td>0.252394</td>\n",
       "      <td>0.095173</td>\n",
       "      <td>10.59701</td>\n",
       "      <td>0.054227</td>\n",
       "      <td>0.13175</td>\n",
       "      <td>0.035243</td>\n",
       "      <td>0.283075</td>\n",
       "      <td>2.636333</td>\n",
       "      <td>1.5</td>\n",
       "      <td>2.905384</td>\n",
       "      <td>0.641016</td>\n",
       "    </tr>\n",
       "    <tr>\n",
       "      <th>850</th>\n",
       "      <td>1992-04-30</td>\n",
       "      <td>8</td>\n",
       "      <td>tropicana</td>\n",
       "      <td>30784</td>\n",
       "      <td>1</td>\n",
       "      <td>2.16</td>\n",
       "      <td>0.252394</td>\n",
       "      <td>0.095173</td>\n",
       "      <td>10.59701</td>\n",
       "      <td>0.054227</td>\n",
       "      <td>0.13175</td>\n",
       "      <td>0.035243</td>\n",
       "      <td>0.283075</td>\n",
       "      <td>2.636333</td>\n",
       "      <td>1.5</td>\n",
       "      <td>2.905384</td>\n",
       "      <td>0.641016</td>\n",
       "    </tr>\n",
       "    <tr>\n",
       "      <th>851</th>\n",
       "      <td>1992-05-07</td>\n",
       "      <td>8</td>\n",
       "      <td>tropicana</td>\n",
       "      <td>18048</td>\n",
       "      <td>0</td>\n",
       "      <td>2.89</td>\n",
       "      <td>0.252394</td>\n",
       "      <td>0.095173</td>\n",
       "      <td>10.59701</td>\n",
       "      <td>0.054227</td>\n",
       "      <td>0.13175</td>\n",
       "      <td>0.035243</td>\n",
       "      <td>0.283075</td>\n",
       "      <td>2.636333</td>\n",
       "      <td>1.5</td>\n",
       "      <td>2.905384</td>\n",
       "      <td>0.641016</td>\n",
       "    </tr>\n",
       "  </tbody>\n",
       "</table>\n",
       "</div>"
      ],
      "text/plain": [
       "    WeekStarting  Store      Brand  Quantity  Advert  Price     Age60  \\\n",
       "847 1992-04-09    8      tropicana  16192     0       2.50   0.252394   \n",
       "848 1992-04-16    8      tropicana  6528      0       2.89   0.252394   \n",
       "849 1992-04-23    8      tropicana  8320      0       2.89   0.252394   \n",
       "850 1992-04-30    8      tropicana  30784     1       2.16   0.252394   \n",
       "851 1992-05-07    8      tropicana  18048     0       2.89   0.252394   \n",
       "\n",
       "      COLLEGE    INCOME  Hincome150  Large HH  Minorities  WorkingWoman  \\\n",
       "847  0.095173  10.59701  0.054227    0.13175   0.035243    0.283075       \n",
       "848  0.095173  10.59701  0.054227    0.13175   0.035243    0.283075       \n",
       "849  0.095173  10.59701  0.054227    0.13175   0.035243    0.283075       \n",
       "850  0.095173  10.59701  0.054227    0.13175   0.035243    0.283075       \n",
       "851  0.095173  10.59701  0.054227    0.13175   0.035243    0.283075       \n",
       "\n",
       "     SSTRDIST  SSTRVOL   CPDIST5   CPWVOL5  \n",
       "847  2.636333  1.5      2.905384  0.641016  \n",
       "848  2.636333  1.5      2.905384  0.641016  \n",
       "849  2.636333  1.5      2.905384  0.641016  \n",
       "850  2.636333  1.5      2.905384  0.641016  \n",
       "851  2.636333  1.5      2.905384  0.641016  "
      ]
     },
     "execution_count": 12,
     "metadata": {},
     "output_type": "execute_result"
    }
   ],
   "source": [
    "train_dataset.to_pandas_dataframe().tail()"
   ]
  },
  {
   "cell_type": "markdown",
   "metadata": {},
   "source": [
    "## Modeling\n",
    "\n",
    "For forecasting tasks, AutoML uses pre-processing and estimation steps that are specific to time-series. AutoML will undertake the following pre-processing steps:\n",
    "* Detect time-series sample frequency (e.g. hourly, daily, weekly) and create new records for absent time points to make the series regular. A regular time series has a well-defined frequency and has a value at every sample point in a contiguous time span \n",
    "* Impute missing values in the target (via forward-fill) and feature columns (using median column values) \n",
    "* Create features based on time series identifiers to enable fixed effects across different series\n",
    "* Create time-based features to assist in learning seasonal patterns\n",
    "* Encode categorical variables to numeric quantities\n",
    "\n",
    "In this notebook, AutoML will train a single, regression-type model across **all** time-series in a given training set. This allows the model to generalize across related series. If you're looking for training multiple models for different time-series, please see the many-models notebook.\n",
    "\n",
    "You are almost ready to start an AutoML training job. First, we need to separate the target column from the rest of the DataFrame: "
   ]
  },
  {
   "cell_type": "code",
   "execution_count": 13,
   "metadata": {},
   "outputs": [],
   "source": [
    "target_column_name = \"Quantity\""
   ]
  },
  {
   "cell_type": "markdown",
   "metadata": {},
   "source": [
    "## Customization\n",
    "\n",
    "The featurization customization in forecasting is an advanced feature in AutoML which allows our customers to change the default forecasting featurization behaviors and column types through `FeaturizationConfig`. The supported scenarios include:\n",
    "\n",
    "1. Column purposes update: Override feature type for the specified column. Currently supports DateTime, Categorical and Numeric. This customization can be used in the scenario that the type of the column cannot correctly reflect its purpose. Some numerical columns, for instance, can be treated as Categorical columns which need to be converted to categorical while some can be treated as epoch timestamp which need to be converted to datetime. To tell our SDK to correctly preprocess these columns, a configuration need to be add with the columns and their desired types.\n",
    "2. Transformer parameters update: Currently supports parameter change for Imputer only. User can customize imputation methods. The supported imputing methods for target column are constant and ffill (forward fill). The supported imputing methods for feature columns are mean, median, most frequent, constant and ffill (forward fill). This customization can be used for the scenario that our customers know which imputation methods fit best to the input data. For instance, some datasets use NaN to represent 0 which the correct behavior should impute all the missing value with 0. To achieve this behavior, these columns need to be configured as constant imputation with `fill_value` 0.\n",
    "3. Drop columns: Columns to drop from being featurized. These usually are the columns which are leaky or the columns contain no useful data."
   ]
  },
  {
   "cell_type": "code",
   "execution_count": 14,
   "metadata": {
    "tags": [
     "sample-featurizationconfig-remarks"
    ]
   },
   "outputs": [],
   "source": [
    "featurization_config = FeaturizationConfig()\n",
    "# Force the CPWVOL5 feature to be numeric type.\n",
    "featurization_config.add_column_purpose(\"CPWVOL5\", \"Numeric\")\n",
    "# Fill missing values in the target column, Quantity, with zeros.\n",
    "featurization_config.add_transformer_params(\n",
    "    \"Imputer\", [\"Quantity\"], {\"strategy\": \"constant\", \"fill_value\": 0}\n",
    ")\n",
    "# Fill missing values in the INCOME column with median value.\n",
    "featurization_config.add_transformer_params(\n",
    "    \"Imputer\", [\"INCOME\"], {\"strategy\": \"median\"}\n",
    ")\n",
    "# Fill missing values in the Price column with forward fill (last value carried forward).\n",
    "featurization_config.add_transformer_params(\"Imputer\", [\"Price\"], {\"strategy\": \"ffill\"})"
   ]
  },
  {
   "cell_type": "markdown",
   "metadata": {},
   "source": [
    "## Forecasting Parameters\n",
    "To define forecasting parameters for your experiment training, you can leverage the ForecastingParameters class. The table below details the forecasting parameter we will be passing into our experiment.\n",
    "\n",
    "\n",
    "|Property|Description|\n",
    "|-|-|\n",
    "|**time_column_name**|The name of your time column.|\n",
    "|**forecast_horizon**|The forecast horizon is how many periods forward you would like to forecast. This integer horizon is in units of the timeseries frequency (e.g. daily, weekly).|\n",
    "|**time_series_id_column_names**|The column names used to uniquely identify the time series in data that has multiple rows with the same timestamp. If the time series identifiers are not defined, the data set is assumed to be one time series.|\n",
    "|**freq**|Forecast frequency. This optional parameter represents the period with which the forecast is desired, for example, daily, weekly, yearly, etc. Use this parameter for the correction of time series containing irregular data points or for padding of short time series. The frequency needs to be a pandas offset alias. Please refer to [pandas documentation](https://pandas.pydata.org/pandas-docs/stable/user_guide/timeseries.html#dateoffset-objects) for more information."
   ]
  },
  {
   "cell_type": "markdown",
   "metadata": {},
   "source": [
    "## Train<a id=\"train\"></a>\n",
    "\n",
    "The [AutoMLConfig](https://docs.microsoft.com/en-us/python/api/azureml-train-automl-client/azureml.train.automl.automlconfig.automlconfig?view=azure-ml-py) object defines the settings and data for an AutoML training job. Here, we set necessary inputs like the task type, the number of AutoML iterations to try, the training data, and cross-validation parameters.\n",
    "\n",
    "For forecasting tasks, there are some additional parameters that can be set in the `ForecastingParameters` class: the name of the column holding the date/time, the timeseries id column names, and the maximum forecast horizon. A time column is required for forecasting, while the time_series_id is optional. If time_series_id columns are not given, AutoML assumes that the whole dataset is a single time-series. We also pass a list of columns to drop prior to modeling. The _logQuantity_ column is completely correlated with the target quantity, so it must be removed to prevent a target leak.\n",
    "\n",
    "The forecast horizon is given in units of the time-series frequency; for instance, the OJ series frequency is weekly, so a horizon of 20 means that a trained model will estimate sales up to 20 weeks beyond the latest date in the training data for each series. In this example, we set the forecast horizon to the number of samples per series in the test set (n_test_periods). Generally, the value of this parameter will be dictated by business needs. For example, a demand planning application that estimates the next month of sales should set the horizon according to suitable planning time-scales. Please see the [energy_demand notebook](https://github.com/Azure/MachineLearningNotebooks/tree/master/how-to-use-azureml/automated-machine-learning/forecasting-energy-demand) for more discussion of forecast horizon.\n",
    "\n",
    "We note here that AutoML can sweep over two types of time-series models:\n",
    "* Models that are trained for each series such as ARIMA and Facebook's Prophet.\n",
    "* Models trained across multiple time-series using a regression approach.\n",
    "\n",
    "In the first case, AutoML loops over all time-series in your dataset and trains one model (e.g. AutoArima or Prophet, as the case may be) for each series. This can result in long runtimes to train these models if there are a lot of series in the data. One way to mitigate this problem is to fit models for different series in parallel if you have multiple compute cores available. To enable this behavior, set the `max_cores_per_iteration` parameter in your AutoMLConfig as shown in the example in the next cell. \n",
    "\n",
    "\n",
    "Finally, a note about the cross-validation (CV) procedure for time-series data. AutoML uses out-of-sample error estimates to select a best pipeline/model, so it is important that the CV fold splitting is done correctly. Time-series can violate the basic statistical assumptions of the canonical K-Fold CV strategy, so AutoML implements a [rolling origin validation](https://robjhyndman.com/hyndsight/tscv/) procedure to create CV folds for time-series data. To use this procedure, you just need to specify the desired number of CV folds in the AutoMLConfig object. It is also possible to bypass CV and use your own validation set by setting the *validation_data* parameter of AutoMLConfig.\n",
    "\n",
    "Here is a summary of AutoMLConfig parameters used for training the OJ model:\n",
    "\n",
    "|Property|Description|\n",
    "|-|-|\n",
    "|**task**|forecasting|\n",
    "|**primary_metric**|This is the metric that you want to optimize.<br> Forecasting supports the following primary metrics <br><i>spearman_correlation</i><br><i>normalized_root_mean_squared_error</i><br><i>r2_score</i><br><i>normalized_mean_absolute_error</i>\n",
    "|**experiment_timeout_hours**|Experimentation timeout in hours.|\n",
    "|**enable_early_stopping**|If early stopping is on, training will stop when the primary metric is no longer improving.|\n",
    "|**training_data**|Input dataset, containing both features and label column.|\n",
    "|**label_column_name**|The name of the label column.|\n",
    "|**compute_target**|The remote compute for training.|\n",
    "|**n_cross_validations**|Number of cross-validation folds to use for model/pipeline selection|\n",
    "|**enable_voting_ensemble**|Allow AutoML to create a Voting ensemble of the best performing models|\n",
    "|**enable_stack_ensemble**|Allow AutoML to create a Stack ensemble of the best performing models|\n",
    "|**debug_log**|Log file path for writing debugging information|\n",
    "|**featurization**| 'auto' / 'off' / FeaturizationConfig Indicator for whether featurization step should be done automatically or not, or whether customized featurization should be used. Setting this enables AutoML to perform featurization on the input to handle *missing data*, and to perform some common *feature extraction*.|\n",
    "|**max_cores_per_iteration**|Maximum number of cores to utilize per iteration. A value of -1 indicates all available cores should be used"
   ]
  },
  {
   "cell_type": "code",
   "execution_count": 20,
   "metadata": {},
   "outputs": [
    {
     "name": "stdout",
     "output_type": "stream",
     "text": [
      "AmlCompute(workspace=Workspace.create(name='ads-demo-aml', subscription_id='f5052c6f-7974-48eb-b0ba-f390a5c40ab8', resource_group='Demos-ADS'), name=oj-cluster, id=/subscriptions/f5052c6f-7974-48eb-b0ba-f390a5c40ab8/resourceGroups/Demos-ADS/providers/Microsoft.MachineLearningServices/workspaces/ads-demo-aml/computes/oj-cluster, type=AmlCompute, provisioning_state=Succeeded, location=eastus, tags={})\n"
     ]
    }
   ],
   "source": [
    "from azureml.automl.core.forecasting_parameters import ForecastingParameters\n",
    "\n",
    "forecasting_parameters = ForecastingParameters(\n",
    "    time_column_name=time_column_name,\n",
    "    forecast_horizon=n_test_periods,\n",
    "    time_series_id_column_names=time_series_id_column_names,\n",
    "    freq=\"W-THU\",  # Set the forecast frequency to be weekly (start on each Thursday)\n",
    ")\n",
    "\n",
    "automl_config = AutoMLConfig(\n",
    "    task=\"forecasting\",\n",
    "    debug_log=\"automl_oj_sales_errors.log\",\n",
    "    primary_metric=\"normalized_mean_absolute_error\",\n",
    "    experiment_timeout_hours=0.25,\n",
    "    training_data=train_dataset,\n",
    "    label_column_name=target_column_name,\n",
    "    compute_target=compute_target,\n",
    "    enable_early_stopping=True,\n",
    "    featurization=featurization_config,\n",
    "    n_cross_validations=3,\n",
    "    verbosity=logging.INFO,\n",
    "    max_cores_per_iteration=-1,\n",
    "    forecasting_parameters=forecasting_parameters,\n",
    ")\n",
    "\n",
    "print(compute_target)"
   ]
  },
  {
   "cell_type": "markdown",
   "metadata": {},
   "source": [
    "You can now submit a new training run. Depending on the data and number of iterations this operation may take several minutes.\n",
    "Information from each iteration will be printed to the console.  Validation errors and current status will be shown when setting `show_output=True` and the execution will be synchronous."
   ]
  },
  {
   "cell_type": "code",
   "execution_count": 21,
   "metadata": {},
   "outputs": [
    {
     "name": "stdout",
     "output_type": "stream",
     "text": [
      "Submitting remote run.\n"
     ]
    },
    {
     "data": {
      "text/html": [
       "<table style=\"width:100%\"><tr><th>Experiment</th><th>Id</th><th>Type</th><th>Status</th><th>Details Page</th><th>Docs Page</th></tr><tr><td>automl-ojforecasting</td><td>AutoML_ec1ee995-1c49-4824-a31c-6043dbc48531</td><td>automl</td><td>NotStarted</td><td><a href=\"https://ml.azure.com/runs/AutoML_ec1ee995-1c49-4824-a31c-6043dbc48531?wsid=/subscriptions/f5052c6f-7974-48eb-b0ba-f390a5c40ab8/resourcegroups/Demos-ADS/workspaces/ads-demo-aml&amp;tid=72f988bf-86f1-41af-91ab-2d7cd011db47\" target=\"_blank\" rel=\"noopener\">Link to Azure Machine Learning studio</a></td><td><a href=\"https://docs.microsoft.com/en-us/python/api/overview/azure/ml/intro?view=azure-ml-py\" target=\"_blank\" rel=\"noopener\">Link to Documentation</a></td></tr></table>"
      ],
      "text/plain": [
       "<IPython.core.display.HTML object>"
      ]
     },
     "metadata": {},
     "output_type": "display_data"
    }
   ],
   "source": [
    "remote_run = experiment.submit(automl_config, show_output=False)"
   ]
  },
  {
   "cell_type": "code",
   "execution_count": 22,
   "metadata": {},
   "outputs": [
    {
     "data": {
      "text/plain": [
       "{'runId': 'AutoML_ec1ee995-1c49-4824-a31c-6043dbc48531',\n",
       " 'target': 'oj-cluster',\n",
       " 'status': 'Completed',\n",
       " 'startTimeUtc': '2022-01-07T17:41:19.591999Z',\n",
       " 'endTimeUtc': '2022-01-07T18:04:04.867066Z',\n",
       " 'services': {},\n",
       " 'warnings': [{'source': 'JasmineService',\n",
       "   'message': 'Experiment timeout reached, hence experiment stopped. Current experiment timeout: 0 hour(s) 15 minute(s)'}],\n",
       " 'properties': {'num_iterations': '1000',\n",
       "  'training_type': 'TrainFull',\n",
       "  'acquisition_function': 'EI',\n",
       "  'primary_metric': 'normalized_mean_absolute_error',\n",
       "  'train_split': '0',\n",
       "  'acquisition_parameter': '0',\n",
       "  'num_cross_validation': '3',\n",
       "  'target': 'oj-cluster',\n",
       "  'AMLSettingsJsonString': '{\"path\":null,\"name\":\"automl-ojforecasting\",\"subscription_id\":\"f5052c6f-7974-48eb-b0ba-f390a5c40ab8\",\"resource_group\":\"Demos-ADS\",\"workspace_name\":\"ads-demo-aml\",\"region\":\"eastus\",\"compute_target\":\"oj-cluster\",\"spark_service\":null,\"azure_service\":\"remote\",\"many_models\":false,\"pipeline_fetch_max_batch_size\":1,\"enable_batch_run\":false,\"enable_run_restructure\":false,\"start_auxiliary_runs_before_parent_complete\":false,\"enable_code_generation\":false,\"iterations\":1000,\"primary_metric\":\"normalized_mean_absolute_error\",\"task_type\":\"regression\",\"positive_label\":null,\"data_script\":null,\"test_size\":0.0,\"test_include_predictions_only\":false,\"validation_size\":0.0,\"n_cross_validations\":3,\"y_min\":null,\"y_max\":null,\"num_classes\":null,\"featurization\":{\"_blocked_transformers\":null,\"_column_purposes\":{\"CPWVOL5\":\"Numeric\"},\"_transformer_params\":{\"Imputer\":[[[\"Quantity\"],{\"strategy\":\"constant\",\"fill_value\":0}],[[\"INCOME\"],{\"strategy\":\"median\"}],[[\"Price\"],{\"strategy\":\"ffill\"}]]},\"_dataset_language\":null,\"_drop_columns\":null,\"_prediction_transform_type\":null},\"_ignore_package_version_incompatibilities\":false,\"is_timeseries\":true,\"max_cores_per_iteration\":-1,\"max_concurrent_iterations\":1,\"iteration_timeout_minutes\":null,\"mem_in_mb\":null,\"enforce_time_on_windows\":true,\"experiment_timeout_minutes\":15,\"experiment_exit_score\":null,\"whitelist_models\":null,\"blacklist_algos\":[\"TensorFlowDNN\",\"TensorFlowLinearRegressor\"],\"supported_models\":[\"LassoLars\",\"DecisionTree\",\"AutoArima\",\"SeasonalAverage\",\"LightGBM\",\"Prophet\",\"ExponentialSmoothing\",\"SeasonalNaive\",\"SGD\",\"TCNForecaster\",\"ElasticNet\",\"Average\",\"TensorFlowLinearRegressor\",\"XGBoostRegressor\",\"ExtremeRandomTrees\",\"Naive\",\"TensorFlowDNN\",\"KNN\",\"RandomForest\",\"GradientBoosting\",\"Arimax\"],\"private_models\":[\"TabnetRegressor\"],\"auto_blacklist\":true,\"blacklist_samples_reached\":false,\"exclude_nan_labels\":true,\"verbosity\":20,\"_debug_log\":\"azureml_automl.log\",\"show_warnings\":false,\"model_explainability\":true,\"service_url\":null,\"sdk_url\":null,\"sdk_packages\":null,\"enable_onnx_compatible_models\":false,\"enable_split_onnx_featurizer_estimator_models\":false,\"vm_type\":\"STANDARD_D12_V2\",\"telemetry_verbosity\":20,\"send_telemetry\":true,\"enable_dnn\":false,\"scenario\":\"SDK-1.13.0\",\"environment_label\":null,\"save_mlflow\":false,\"enable_categorical_indicators\":false,\"force_text_dnn\":false,\"enable_feature_sweeping\":false,\"time_column_name\":\"WeekStarting\",\"grain_column_names\":[\"Store\",\"Brand\"],\"drop_column_names\":[],\"max_horizon\":20,\"dropna\":false,\"overwrite_columns\":true,\"transform_dictionary\":{\"min\":\"_automl_target_col\",\"max\":\"_automl_target_col\",\"mean\":\"_automl_target_col\"},\"window_size\":null,\"country_or_region\":null,\"lags\":null,\"feature_lags\":null,\"seasonality\":\"auto\",\"use_stl\":null,\"short_series_handling\":true,\"freq\":\"W-THU\",\"short_series_handling_configuration\":\"auto\",\"target_aggregation_function\":null,\"cv_step_size\":null,\"enable_early_stopping\":true,\"early_stopping_n_iters\":10,\"arguments\":null,\"dataset_id\":null,\"hyperdrive_config\":null,\"validation_dataset_id\":null,\"run_source\":null,\"metrics\":null,\"enable_metric_confidence\":false,\"enable_ensembling\":true,\"enable_stack_ensembling\":false,\"ensemble_iterations\":15,\"enable_tf\":false,\"enable_subsampling\":false,\"subsample_seed\":null,\"enable_nimbusml\":false,\"enable_streaming\":false,\"force_streaming\":false,\"track_child_runs\":true,\"allowed_private_models\":[],\"label_column_name\":\"Quantity\",\"weight_column_name\":null,\"cv_split_column_names\":null,\"enable_local_managed\":false,\"_local_managed_run_id\":null,\"cost_mode\":1,\"lag_length\":0,\"metric_operation\":\"minimize\",\"preprocess\":true}',\n",
       "  'DataPrepJsonString': '{\\\\\"training_data\\\\\": {\\\\\"datasetId\\\\\": \\\\\"f0b9b97d-d340-400d-aa9d-f467475cc791\\\\\"}, \\\\\"datasets\\\\\": 0}',\n",
       "  'EnableSubsampling': 'False',\n",
       "  'runTemplate': 'AutoML',\n",
       "  'azureml.runsource': 'automl',\n",
       "  'display_task_type': 'forecasting',\n",
       "  'dependencies_versions': '{\"azureml\": \"0.2.7\", \"azureml-train\": \"1.0.45\", \"azureml-train-restclients-hyperdrive\": \"1.37.0\", \"azureml-train-core\": \"1.37.0\", \"azureml-train-automl\": \"1.37.0\", \"azureml-train-automl-runtime\": \"1.37.0\", \"azureml-train-automl-client\": \"1.37.0\", \"azureml-telemetry\": \"1.37.0\", \"azureml-pipeline\": \"1.0.45\", \"azureml-pipeline-steps\": \"1.0.45\", \"azureml-pipeline-core\": \"1.0.45\", \"azureml-mlflow\": \"1.37.0\", \"azureml-interpret\": \"1.37.0\", \"azureml-inference-server-http\": \"0.4.2\", \"azureml-defaults\": \"1.37.0\", \"azureml-dataset-runtime\": \"1.37.0\", \"azureml-dataprep\": \"2.25.2\", \"azureml-dataprep-rslex\": \"2.1.1\", \"azureml-dataprep-native\": \"38.0.0\", \"azureml-core\": \"1.37.0.post1\", \"azureml-automl-runtime\": \"1.37.0\", \"azureml-automl-core\": \"1.37.0\"}',\n",
       "  '_aml_system_scenario_identification': 'Remote.Parent',\n",
       "  'ClientType': 'SDK',\n",
       "  'environment_cpu_name': 'AzureML-AutoML',\n",
       "  'environment_cpu_label': 'prod',\n",
       "  'environment_gpu_name': 'AzureML-AutoML-GPU',\n",
       "  'environment_gpu_label': 'prod',\n",
       "  'root_attribution': 'automl',\n",
       "  'attribution': 'AutoML',\n",
       "  'Orchestrator': 'AutoML',\n",
       "  'CancelUri': 'https://eastus.api.azureml.ms/jasmine/v1.0/subscriptions/f5052c6f-7974-48eb-b0ba-f390a5c40ab8/resourceGroups/Demos-ADS/providers/Microsoft.MachineLearningServices/workspaces/ads-demo-aml/experimentids/00f7bf81-1d8b-4631-8528-9cb2a3f32df4/cancel/AutoML_ec1ee995-1c49-4824-a31c-6043dbc48531',\n",
       "  'azureml.git.repository_uri': 'https://github.com/jondobrzeniecki/azureml-examples.git',\n",
       "  'mlflow.source.git.repoURL': 'https://github.com/jondobrzeniecki/azureml-examples.git',\n",
       "  'azureml.git.branch': 'main',\n",
       "  'mlflow.source.git.branch': 'main',\n",
       "  'azureml.git.commit': '4d433622b6207d2f7df216b5fdcc2dc42cb01529',\n",
       "  'mlflow.source.git.commit': '4d433622b6207d2f7df216b5fdcc2dc42cb01529',\n",
       "  'azureml.git.dirty': 'True',\n",
       "  'ClientSdkVersion': '1.37.0',\n",
       "  'snapshotId': '00000000-0000-0000-0000-000000000000',\n",
       "  'SetupRunId': 'AutoML_ec1ee995-1c49-4824-a31c-6043dbc48531_setup',\n",
       "  'SetupRunContainerId': 'dcid.AutoML_ec1ee995-1c49-4824-a31c-6043dbc48531_setup',\n",
       "  'forecasting_target_lags': '[0]',\n",
       "  'forecasting_target_rolling_window_size': '0',\n",
       "  'forecasting_max_horizon': '20',\n",
       "  'forecasting_freq': 'W-THU',\n",
       "  'ProblemInfoJsonString': '{\"dataset_num_categorical\": 0, \"is_sparse\": false, \"subsampling\": false, \"has_extra_col\": true, \"dataset_classes\": 402, \"dataset_features\": 35, \"dataset_samples\": 903, \"single_frequency_class_detected\": false, \"series_column_count\": 2, \"series_count\": 9, \"series_len_min\": 90, \"series_len_max\": 98, \"series_len_avg\": 94.66666666666667, \"series_len_perc_25\": 90.0, \"series_len_perc_50\": 96.0, \"series_len_perc_75\": 98.0}',\n",
       "  'ModelExplainRunId': 'AutoML_ec1ee995-1c49-4824-a31c-6043dbc48531_ModelExplain'},\n",
       " 'inputDatasets': [{'dataset': {'id': 'f0b9b97d-d340-400d-aa9d-f467475cc791'}, 'consumptionDetails': {'type': 'RunInput', 'inputName': 'training_data', 'mechanism': 'Direct'}}],\n",
       " 'outputDatasets': [],\n",
       " 'logFiles': {},\n",
       " 'submittedBy': 'Jon Dobrzeniecki'}"
      ]
     },
     "execution_count": 22,
     "metadata": {},
     "output_type": "execute_result"
    }
   ],
   "source": [
    "remote_run.wait_for_completion()"
   ]
  },
  {
   "cell_type": "markdown",
   "metadata": {},
   "source": [
    "### Retrieve the Best Run details\n",
    "Below we retrieve the best Run object from among all the runs in the experiment."
   ]
  },
  {
   "cell_type": "code",
   "execution_count": 23,
   "metadata": {},
   "outputs": [
    {
     "data": {
      "text/html": [
       "<table style=\"width:100%\"><tr><th>Experiment</th><th>Id</th><th>Type</th><th>Status</th><th>Details Page</th><th>Docs Page</th></tr><tr><td>automl-ojforecasting</td><td>AutoML_ec1ee995-1c49-4824-a31c-6043dbc48531_24</td><td>azureml.scriptrun</td><td>Completed</td><td><a href=\"https://ml.azure.com/runs/AutoML_ec1ee995-1c49-4824-a31c-6043dbc48531_24?wsid=/subscriptions/f5052c6f-7974-48eb-b0ba-f390a5c40ab8/resourcegroups/Demos-ADS/workspaces/ads-demo-aml&amp;tid=72f988bf-86f1-41af-91ab-2d7cd011db47\" target=\"_blank\" rel=\"noopener\">Link to Azure Machine Learning studio</a></td><td><a href=\"https://docs.microsoft.com/en-us/python/api/azureml-core/azureml.core.run.Run?view=azure-ml-py\" target=\"_blank\" rel=\"noopener\">Link to Documentation</a></td></tr></table>"
      ],
      "text/plain": [
       "Run(Experiment: automl-ojforecasting,\n",
       "Id: AutoML_ec1ee995-1c49-4824-a31c-6043dbc48531_24,\n",
       "Type: azureml.scriptrun,\n",
       "Status: Completed)"
      ]
     },
     "execution_count": 23,
     "metadata": {},
     "output_type": "execute_result"
    }
   ],
   "source": [
    "best_run = remote_run.get_best_child()\n",
    "model_name = best_run.properties[\"model_name\"]\n",
    "best_run"
   ]
  },
  {
   "cell_type": "markdown",
   "metadata": {},
   "source": [
    "## Transparency\n",
    "\n",
    "View updated featurization summary"
   ]
  },
  {
   "cell_type": "code",
   "execution_count": 24,
   "metadata": {},
   "outputs": [
    {
     "data": {
      "text/html": [
       "<div>\n",
       "<style scoped>\n",
       "    .dataframe tbody tr th:only-of-type {\n",
       "        vertical-align: middle;\n",
       "    }\n",
       "\n",
       "    .dataframe tbody tr th {\n",
       "        vertical-align: top;\n",
       "    }\n",
       "\n",
       "    .dataframe thead th {\n",
       "        text-align: right;\n",
       "    }\n",
       "</style>\n",
       "<table border=\"1\" class=\"dataframe\">\n",
       "  <thead>\n",
       "    <tr style=\"text-align: right;\">\n",
       "      <th></th>\n",
       "      <th>RawFeatureName</th>\n",
       "      <th>TypeDetected</th>\n",
       "      <th>Dropped</th>\n",
       "      <th>EngineeredFeatureCount</th>\n",
       "      <th>Transformations</th>\n",
       "    </tr>\n",
       "  </thead>\n",
       "  <tbody>\n",
       "    <tr>\n",
       "      <th>0</th>\n",
       "      <td>Advert</td>\n",
       "      <td>Numeric</td>\n",
       "      <td>No</td>\n",
       "      <td>2</td>\n",
       "      <td>[MedianImputer, ImputationMarker]</td>\n",
       "    </tr>\n",
       "    <tr>\n",
       "      <th>1</th>\n",
       "      <td>Price</td>\n",
       "      <td>Numeric</td>\n",
       "      <td>No</td>\n",
       "      <td>2</td>\n",
       "      <td>[FowardFillImputer, ImputationMarker]</td>\n",
       "    </tr>\n",
       "    <tr>\n",
       "      <th>2</th>\n",
       "      <td>Age60</td>\n",
       "      <td>Numeric</td>\n",
       "      <td>No</td>\n",
       "      <td>2</td>\n",
       "      <td>[MedianImputer, ImputationMarker]</td>\n",
       "    </tr>\n",
       "    <tr>\n",
       "      <th>3</th>\n",
       "      <td>COLLEGE</td>\n",
       "      <td>Numeric</td>\n",
       "      <td>No</td>\n",
       "      <td>2</td>\n",
       "      <td>[MedianImputer, ImputationMarker]</td>\n",
       "    </tr>\n",
       "    <tr>\n",
       "      <th>4</th>\n",
       "      <td>INCOME</td>\n",
       "      <td>Numeric</td>\n",
       "      <td>No</td>\n",
       "      <td>2</td>\n",
       "      <td>[MedianImputer, ImputationMarker]</td>\n",
       "    </tr>\n",
       "    <tr>\n",
       "      <th>5</th>\n",
       "      <td>Hincome150</td>\n",
       "      <td>Numeric</td>\n",
       "      <td>No</td>\n",
       "      <td>2</td>\n",
       "      <td>[MedianImputer, ImputationMarker]</td>\n",
       "    </tr>\n",
       "    <tr>\n",
       "      <th>6</th>\n",
       "      <td>Large HH</td>\n",
       "      <td>Numeric</td>\n",
       "      <td>No</td>\n",
       "      <td>2</td>\n",
       "      <td>[MedianImputer, ImputationMarker]</td>\n",
       "    </tr>\n",
       "    <tr>\n",
       "      <th>7</th>\n",
       "      <td>Minorities</td>\n",
       "      <td>Numeric</td>\n",
       "      <td>No</td>\n",
       "      <td>2</td>\n",
       "      <td>[MedianImputer, ImputationMarker]</td>\n",
       "    </tr>\n",
       "    <tr>\n",
       "      <th>8</th>\n",
       "      <td>WorkingWoman</td>\n",
       "      <td>Numeric</td>\n",
       "      <td>No</td>\n",
       "      <td>2</td>\n",
       "      <td>[MedianImputer, ImputationMarker]</td>\n",
       "    </tr>\n",
       "    <tr>\n",
       "      <th>9</th>\n",
       "      <td>SSTRDIST</td>\n",
       "      <td>Numeric</td>\n",
       "      <td>No</td>\n",
       "      <td>2</td>\n",
       "      <td>[MedianImputer, ImputationMarker]</td>\n",
       "    </tr>\n",
       "    <tr>\n",
       "      <th>10</th>\n",
       "      <td>SSTRVOL</td>\n",
       "      <td>Numeric</td>\n",
       "      <td>No</td>\n",
       "      <td>2</td>\n",
       "      <td>[MedianImputer, ImputationMarker]</td>\n",
       "    </tr>\n",
       "    <tr>\n",
       "      <th>11</th>\n",
       "      <td>CPDIST5</td>\n",
       "      <td>Numeric</td>\n",
       "      <td>No</td>\n",
       "      <td>2</td>\n",
       "      <td>[MedianImputer, ImputationMarker]</td>\n",
       "    </tr>\n",
       "    <tr>\n",
       "      <th>12</th>\n",
       "      <td>CPWVOL5</td>\n",
       "      <td>Numeric</td>\n",
       "      <td>No</td>\n",
       "      <td>2</td>\n",
       "      <td>[MedianImputer, ImputationMarker]</td>\n",
       "    </tr>\n",
       "    <tr>\n",
       "      <th>13</th>\n",
       "      <td>_automl_target_col</td>\n",
       "      <td>Numeric</td>\n",
       "      <td>No</td>\n",
       "      <td>1</td>\n",
       "      <td>[ImputationMarker]</td>\n",
       "    </tr>\n",
       "    <tr>\n",
       "      <th>14</th>\n",
       "      <td>Store</td>\n",
       "      <td>Ignore</td>\n",
       "      <td>Yes</td>\n",
       "      <td>1</td>\n",
       "      <td>[GrainMarker-LabelEncoder]</td>\n",
       "    </tr>\n",
       "    <tr>\n",
       "      <th>15</th>\n",
       "      <td>Brand</td>\n",
       "      <td>Ignore</td>\n",
       "      <td>Yes</td>\n",
       "      <td>1</td>\n",
       "      <td>[GrainMarker-LabelEncoder]</td>\n",
       "    </tr>\n",
       "    <tr>\n",
       "      <th>16</th>\n",
       "      <td>WeekStarting</td>\n",
       "      <td>DateTime</td>\n",
       "      <td>No</td>\n",
       "      <td>6</td>\n",
       "      <td>[DateTimeTransformer]</td>\n",
       "    </tr>\n",
       "  </tbody>\n",
       "</table>\n",
       "</div>"
      ],
      "text/plain": [
       "        RawFeatureName TypeDetected Dropped  EngineeredFeatureCount  \\\n",
       "0   Advert              Numeric      No      2                        \n",
       "1   Price               Numeric      No      2                        \n",
       "2   Age60               Numeric      No      2                        \n",
       "3   COLLEGE             Numeric      No      2                        \n",
       "4   INCOME              Numeric      No      2                        \n",
       "5   Hincome150          Numeric      No      2                        \n",
       "6   Large HH            Numeric      No      2                        \n",
       "7   Minorities          Numeric      No      2                        \n",
       "8   WorkingWoman        Numeric      No      2                        \n",
       "9   SSTRDIST            Numeric      No      2                        \n",
       "10  SSTRVOL             Numeric      No      2                        \n",
       "11  CPDIST5             Numeric      No      2                        \n",
       "12  CPWVOL5             Numeric      No      2                        \n",
       "13  _automl_target_col  Numeric      No      1                        \n",
       "14  Store               Ignore       Yes     1                        \n",
       "15  Brand               Ignore       Yes     1                        \n",
       "16  WeekStarting        DateTime     No      6                        \n",
       "\n",
       "                          Transformations  \n",
       "0   [MedianImputer, ImputationMarker]      \n",
       "1   [FowardFillImputer, ImputationMarker]  \n",
       "2   [MedianImputer, ImputationMarker]      \n",
       "3   [MedianImputer, ImputationMarker]      \n",
       "4   [MedianImputer, ImputationMarker]      \n",
       "5   [MedianImputer, ImputationMarker]      \n",
       "6   [MedianImputer, ImputationMarker]      \n",
       "7   [MedianImputer, ImputationMarker]      \n",
       "8   [MedianImputer, ImputationMarker]      \n",
       "9   [MedianImputer, ImputationMarker]      \n",
       "10  [MedianImputer, ImputationMarker]      \n",
       "11  [MedianImputer, ImputationMarker]      \n",
       "12  [MedianImputer, ImputationMarker]      \n",
       "13  [ImputationMarker]                     \n",
       "14  [GrainMarker-LabelEncoder]             \n",
       "15  [GrainMarker-LabelEncoder]             \n",
       "16  [DateTimeTransformer]                  "
      ]
     },
     "execution_count": 24,
     "metadata": {},
     "output_type": "execute_result"
    }
   ],
   "source": [
    "# Download the featurization summary JSON file locally\n",
    "best_run.download_file(\n",
    "    \"outputs/featurization_summary.json\", \"featurization_summary.json\"\n",
    ")\n",
    "\n",
    "# Render the JSON as a pandas DataFrame\n",
    "with open(\"featurization_summary.json\", \"r\") as f:\n",
    "    records = json.load(f)\n",
    "fs = pd.DataFrame.from_records(records)\n",
    "\n",
    "# View a summary of the featurization\n",
    "fs[\n",
    "    [\n",
    "        \"RawFeatureName\",\n",
    "        \"TypeDetected\",\n",
    "        \"Dropped\",\n",
    "        \"EngineeredFeatureCount\",\n",
    "        \"Transformations\",\n",
    "    ]\n",
    "]"
   ]
  },
  {
   "cell_type": "markdown",
   "metadata": {},
   "source": [
    "# Forecast<a id=\"forecast\"></a>\n",
    "\n",
    "Now that we have retrieved the best pipeline/model, it can be used to make predictions on test data. We will do batch scoring on the test dataset which should have the same schema as training dataset.\n",
    "\n",
    "The inference will run on a remote compute. In this example, it will re-use the training compute."
   ]
  },
  {
   "cell_type": "code",
   "execution_count": 25,
   "metadata": {},
   "outputs": [],
   "source": [
    "test_experiment = Experiment(ws, experiment_name + \"_inference\")"
   ]
  },
  {
   "cell_type": "markdown",
   "metadata": {},
   "source": [
    "### Retrieving forecasts from the model\n",
    "We have created a function called `run_forecast` that submits the test data to the best model determined during the training run and retrieves forecasts. This function uses a helper script `forecasting_script` which is uploaded and expecuted on the remote compute."
   ]
  },
  {
   "cell_type": "markdown",
   "metadata": {},
   "source": [
    "To produce predictions on the test set, we need to know the feature values at all dates in the test set. This requirement is somewhat reasonable for the OJ sales data since the features mainly consist of price, which is usually set in advance, and customer demographics which are approximately constant for each store over the 20 week forecast horizon in the testing data."
   ]
  },
  {
   "cell_type": "code",
   "execution_count": 26,
   "metadata": {},
   "outputs": [],
   "source": [
    "from run_forecast import run_remote_inference\n",
    "\n",
    "remote_run_infer = run_remote_inference(\n",
    "    test_experiment=test_experiment,\n",
    "    compute_target=compute_target,\n",
    "    train_run=best_run,\n",
    "    test_dataset=test_dataset,\n",
    "    target_column_name=target_column_name,\n",
    ")\n",
    "remote_run_infer.wait_for_completion(show_output=False)\n",
    "\n",
    "# download the forecast file to the local machine\n",
    "remote_run_infer.download_file(\"outputs/predictions.csv\", \"predictions.csv\")"
   ]
  },
  {
   "cell_type": "markdown",
   "metadata": {},
   "source": [
    "# Evaluate\n",
    "\n",
    "To evaluate the accuracy of the forecast, we'll compare against the actual sales quantities for some select metrics, included the mean absolute percentage error (MAPE). For more metrics that can be used for evaluation after training, please see [supported metrics](https://docs.microsoft.com/en-us/azure/machine-learning/how-to-understand-automated-ml#regressionforecasting-metrics), and [how to calculate residuals](https://docs.microsoft.com/en-us/azure/machine-learning/how-to-understand-automated-ml#residuals).\n",
    "\n",
    "We'll add predictions and actuals into a single dataframe for convenience in calculating the metrics."
   ]
  },
  {
   "cell_type": "code",
   "execution_count": 27,
   "metadata": {},
   "outputs": [
    {
     "data": {
      "text/html": [
       "<div>\n",
       "<style scoped>\n",
       "    .dataframe tbody tr th:only-of-type {\n",
       "        vertical-align: middle;\n",
       "    }\n",
       "\n",
       "    .dataframe tbody tr th {\n",
       "        vertical-align: top;\n",
       "    }\n",
       "\n",
       "    .dataframe thead th {\n",
       "        text-align: right;\n",
       "    }\n",
       "</style>\n",
       "<table border=\"1\" class=\"dataframe\">\n",
       "  <thead>\n",
       "    <tr style=\"text-align: right;\">\n",
       "      <th></th>\n",
       "      <th>WeekStarting</th>\n",
       "      <th>Store</th>\n",
       "      <th>Brand</th>\n",
       "      <th>Advert</th>\n",
       "      <th>Price</th>\n",
       "      <th>Age60</th>\n",
       "      <th>COLLEGE</th>\n",
       "      <th>INCOME</th>\n",
       "      <th>Hincome150</th>\n",
       "      <th>Large HH</th>\n",
       "      <th>Minorities</th>\n",
       "      <th>WorkingWoman</th>\n",
       "      <th>SSTRDIST</th>\n",
       "      <th>SSTRVOL</th>\n",
       "      <th>CPDIST5</th>\n",
       "      <th>CPWVOL5</th>\n",
       "      <th>Quantity</th>\n",
       "      <th>prediction_interval</th>\n",
       "      <th>predicted</th>\n",
       "    </tr>\n",
       "  </thead>\n",
       "  <tbody>\n",
       "    <tr>\n",
       "      <th>0</th>\n",
       "      <td>1992-05-21</td>\n",
       "      <td>2</td>\n",
       "      <td>dominicks</td>\n",
       "      <td>0</td>\n",
       "      <td>1.69</td>\n",
       "      <td>0.232865</td>\n",
       "      <td>0.248935</td>\n",
       "      <td>10.553205</td>\n",
       "      <td>0.463887</td>\n",
       "      <td>0.103953</td>\n",
       "      <td>0.11428</td>\n",
       "      <td>0.303585</td>\n",
       "      <td>2.110122</td>\n",
       "      <td>1.142857</td>\n",
       "      <td>1.92728</td>\n",
       "      <td>0.376927</td>\n",
       "      <td>9664</td>\n",
       "      <td>[-27311.817141855237, 47038.704179196226]</td>\n",
       "      <td>9863.443519</td>\n",
       "    </tr>\n",
       "    <tr>\n",
       "      <th>1</th>\n",
       "      <td>1992-05-28</td>\n",
       "      <td>2</td>\n",
       "      <td>dominicks</td>\n",
       "      <td>0</td>\n",
       "      <td>1.69</td>\n",
       "      <td>0.232865</td>\n",
       "      <td>0.248935</td>\n",
       "      <td>10.553205</td>\n",
       "      <td>0.463887</td>\n",
       "      <td>0.103953</td>\n",
       "      <td>0.11428</td>\n",
       "      <td>0.303585</td>\n",
       "      <td>2.110122</td>\n",
       "      <td>1.142857</td>\n",
       "      <td>1.92728</td>\n",
       "      <td>0.376927</td>\n",
       "      <td>45568</td>\n",
       "      <td>[-43016.37410213791, 62131.14151960304]</td>\n",
       "      <td>9557.383709</td>\n",
       "    </tr>\n",
       "    <tr>\n",
       "      <th>2</th>\n",
       "      <td>1992-06-04</td>\n",
       "      <td>2</td>\n",
       "      <td>dominicks</td>\n",
       "      <td>0</td>\n",
       "      <td>1.74</td>\n",
       "      <td>0.232865</td>\n",
       "      <td>0.248935</td>\n",
       "      <td>10.553205</td>\n",
       "      <td>0.463887</td>\n",
       "      <td>0.103953</td>\n",
       "      <td>0.11428</td>\n",
       "      <td>0.303585</td>\n",
       "      <td>2.110122</td>\n",
       "      <td>1.142857</td>\n",
       "      <td>1.92728</td>\n",
       "      <td>0.376927</td>\n",
       "      <td>20992</td>\n",
       "      <td>[-54019.69745864396, 74759.18303865026]</td>\n",
       "      <td>10369.742790</td>\n",
       "    </tr>\n",
       "    <tr>\n",
       "      <th>3</th>\n",
       "      <td>1992-06-11</td>\n",
       "      <td>2</td>\n",
       "      <td>dominicks</td>\n",
       "      <td>0</td>\n",
       "      <td>2.09</td>\n",
       "      <td>0.232865</td>\n",
       "      <td>0.248935</td>\n",
       "      <td>10.553205</td>\n",
       "      <td>0.463887</td>\n",
       "      <td>0.103953</td>\n",
       "      <td>0.11428</td>\n",
       "      <td>0.303585</td>\n",
       "      <td>2.110122</td>\n",
       "      <td>1.142857</td>\n",
       "      <td>1.92728</td>\n",
       "      <td>0.376927</td>\n",
       "      <td>6592</td>\n",
       "      <td>[-69643.35876715473, 79057.6838749482]</td>\n",
       "      <td>4707.162554</td>\n",
       "    </tr>\n",
       "    <tr>\n",
       "      <th>4</th>\n",
       "      <td>1992-06-18</td>\n",
       "      <td>2</td>\n",
       "      <td>dominicks</td>\n",
       "      <td>0</td>\n",
       "      <td>2.05</td>\n",
       "      <td>0.232865</td>\n",
       "      <td>0.248935</td>\n",
       "      <td>10.553205</td>\n",
       "      <td>0.463887</td>\n",
       "      <td>0.103953</td>\n",
       "      <td>0.11428</td>\n",
       "      <td>0.303585</td>\n",
       "      <td>2.110122</td>\n",
       "      <td>1.142857</td>\n",
       "      <td>1.92728</td>\n",
       "      <td>0.376927</td>\n",
       "      <td>4992</td>\n",
       "      <td>[-77019.39249308094, 89233.42734333761]</td>\n",
       "      <td>6107.017425</td>\n",
       "    </tr>\n",
       "  </tbody>\n",
       "</table>\n",
       "</div>"
      ],
      "text/plain": [
       "  WeekStarting  Store      Brand  Advert  Price     Age60   COLLEGE  \\\n",
       "0 1992-05-21    2      dominicks  0       1.69   0.232865  0.248935   \n",
       "1 1992-05-28    2      dominicks  0       1.69   0.232865  0.248935   \n",
       "2 1992-06-04    2      dominicks  0       1.74   0.232865  0.248935   \n",
       "3 1992-06-11    2      dominicks  0       2.09   0.232865  0.248935   \n",
       "4 1992-06-18    2      dominicks  0       2.05   0.232865  0.248935   \n",
       "\n",
       "      INCOME  Hincome150  Large HH  Minorities  WorkingWoman  SSTRDIST  \\\n",
       "0  10.553205  0.463887    0.103953  0.11428     0.303585      2.110122   \n",
       "1  10.553205  0.463887    0.103953  0.11428     0.303585      2.110122   \n",
       "2  10.553205  0.463887    0.103953  0.11428     0.303585      2.110122   \n",
       "3  10.553205  0.463887    0.103953  0.11428     0.303585      2.110122   \n",
       "4  10.553205  0.463887    0.103953  0.11428     0.303585      2.110122   \n",
       "\n",
       "    SSTRVOL  CPDIST5   CPWVOL5  Quantity  \\\n",
       "0  1.142857  1.92728  0.376927  9664       \n",
       "1  1.142857  1.92728  0.376927  45568      \n",
       "2  1.142857  1.92728  0.376927  20992      \n",
       "3  1.142857  1.92728  0.376927  6592       \n",
       "4  1.142857  1.92728  0.376927  4992       \n",
       "\n",
       "                         prediction_interval     predicted  \n",
       "0  [-27311.817141855237, 47038.704179196226]  9863.443519   \n",
       "1  [-43016.37410213791, 62131.14151960304]    9557.383709   \n",
       "2  [-54019.69745864396, 74759.18303865026]    10369.742790  \n",
       "3  [-69643.35876715473, 79057.6838749482]     4707.162554   \n",
       "4  [-77019.39249308094, 89233.42734333761]    6107.017425   "
      ]
     },
     "execution_count": 27,
     "metadata": {},
     "output_type": "execute_result"
    }
   ],
   "source": [
    "# load forecast data frame\n",
    "fcst_df = pd.read_csv(\"predictions.csv\", parse_dates=[time_column_name])\n",
    "fcst_df.head()"
   ]
  },
  {
   "cell_type": "code",
   "execution_count": 28,
   "metadata": {},
   "outputs": [
    {
     "name": "stdout",
     "output_type": "stream",
     "text": [
      "[Test data scores]\n",
      "\n",
      "normalized_root_mean_squared_error:   0.140\n",
      "median_absolute_error:   4088.050\n",
      "explained_variance:   0.193\n",
      "mean_absolute_error:   10297.156\n",
      "normalized_root_mean_squared_log_error:   0.157\n",
      "root_mean_squared_error:   18513.979\n",
      "normalized_mean_absolute_error:   0.078\n",
      "normalized_median_absolute_error:   0.031\n",
      "spearman_correlation:   0.666\n",
      "root_mean_squared_log_error:   0.714\n",
      "mean_absolute_percentage_error:   73.690\n",
      "r2_score:   0.190\n"
     ]
    },
    {
     "data": {
      "image/png": "[encoded data removed]",
      "text/plain": [
       "<Figure size 432x288 with 1 Axes>"
      ]
     },
     "metadata": {
      "needs_background": "light"
     },
     "output_type": "display_data"
    }
   ],
   "source": [
    "from azureml.automl.core.shared import constants\n",
    "from azureml.automl.runtime.shared.score import scoring\n",
    "from matplotlib import pyplot as plt\n",
    "\n",
    "# use automl scoring module\n",
    "scores = scoring.score_regression(\n",
    "    y_test=fcst_df[target_column_name],\n",
    "    y_pred=fcst_df[\"predicted\"],\n",
    "    metrics=list(constants.Metric.SCALAR_REGRESSION_SET),\n",
    ")\n",
    "\n",
    "print(\"[Test data scores]\\n\")\n",
    "for key, value in scores.items():\n",
    "    print(\"{}:   {:.3f}\".format(key, value))\n",
    "\n",
    "# Plot outputs\n",
    "%matplotlib inline\n",
    "test_pred = plt.scatter(fcst_df[target_column_name], fcst_df[\"predicted\"], color=\"b\")\n",
    "test_test = plt.scatter(\n",
    "    fcst_df[target_column_name], fcst_df[target_column_name], color=\"g\"\n",
    ")\n",
    "plt.legend(\n",
    "    (test_pred, test_test), (\"prediction\", \"truth\"), loc=\"upper left\", fontsize=8\n",
    ")\n",
    "plt.show()"
   ]
  },
  {
   "cell_type": "markdown",
   "metadata": {},
   "source": [
    "# Operationalize<a id=\"operationalize\"></a>"
   ]
  },
  {
   "cell_type": "markdown",
   "metadata": {},
   "source": [
    "_Operationalization_ means getting the model into the cloud so that other can run it after you close the notebook. We will create a docker running on Azure Container Instances with the model."
   ]
  },
  {
   "cell_type": "code",
   "execution_count": null,
   "metadata": {},
   "outputs": [],
   "source": [
    "description = \"AutoML OJ forecaster\"\n",
    "tags = None\n",
    "model = remote_run.register_model(\n",
    "    model_name=model_name, description=description, tags=tags\n",
    ")\n",
    "\n",
    "print(remote_run.model_id)"
   ]
  },
  {
   "cell_type": "markdown",
   "metadata": {},
   "source": [
    "### Develop the scoring script\n",
    "\n",
    "For the deployment we need a function which will run the forecast on serialized data. It can be obtained from the best_run."
   ]
  },
  {
   "cell_type": "code",
   "execution_count": null,
   "metadata": {},
   "outputs": [],
   "source": [
    "script_file_name = \"score_fcast.py\"\n",
    "best_run.download_file(\"outputs/scoring_file_v_1_0_0.py\", script_file_name)"
   ]
  },
  {
   "cell_type": "markdown",
   "metadata": {},
   "source": [
    "### Deploy the model as a Web Service on Azure Container Instance"
   ]
  },
  {
   "cell_type": "code",
   "execution_count": null,
   "metadata": {},
   "outputs": [],
   "source": [
    "from azureml.core.model import InferenceConfig\n",
    "from azureml.core.webservice import AciWebservice\n",
    "from azureml.core.webservice import Webservice\n",
    "from azureml.core.model import Model\n",
    "\n",
    "inference_config = InferenceConfig(\n",
    "    environment=best_run.get_environment(), entry_script=script_file_name\n",
    ")\n",
    "\n",
    "aciconfig = AciWebservice.deploy_configuration(\n",
    "    cpu_cores=2,\n",
    "    memory_gb=4,\n",
    "    tags={\"type\": \"automl-forecasting\"},\n",
    "    description=\"Automl forecasting sample service\",\n",
    ")\n",
    "\n",
    "aci_service_name = \"automl-oj-forecast-01\"\n",
    "print(aci_service_name)\n",
    "aci_service = Model.deploy(ws, aci_service_name, [model], inference_config, aciconfig)\n",
    "aci_service.wait_for_deployment(True)\n",
    "print(aci_service.state)"
   ]
  },
  {
   "cell_type": "code",
   "execution_count": null,
   "metadata": {},
   "outputs": [],
   "source": [
    "aci_service.get_logs()"
   ]
  },
  {
   "cell_type": "markdown",
   "metadata": {},
   "source": [
    "### Call the service"
   ]
  },
  {
   "cell_type": "code",
   "execution_count": null,
   "metadata": {},
   "outputs": [],
   "source": [
    "import json\n",
    "\n",
    "X_query = test.copy()\n",
    "X_query.pop(target_column_name)\n",
    "# We have to convert datetime to string, because Timestamps cannot be serialized to JSON.\n",
    "X_query[time_column_name] = X_query[time_column_name].astype(str)\n",
    "# The Service object accept the complex dictionary, which is internally converted to JSON string.\n",
    "# The section 'data' contains the data frame in the form of dictionary.\n",
    "sample_quantiles = [0.025, 0.975]\n",
    "test_sample = json.dumps(\n",
    "    {\"data\": X_query.to_dict(orient=\"records\"), \"quantiles\": sample_quantiles}\n",
    ")\n",
    "response = aci_service.run(input_data=test_sample)\n",
    "# translate from networkese to datascientese\n",
    "try:\n",
    "    res_dict = json.loads(response)\n",
    "    y_fcst_all = pd.DataFrame(res_dict[\"index\"])\n",
    "    y_fcst_all[time_column_name] = pd.to_datetime(\n",
    "        y_fcst_all[time_column_name], unit=\"ms\"\n",
    "    )\n",
    "    y_fcst_all[\"forecast\"] = res_dict[\"forecast\"]\n",
    "    y_fcst_all[\"prediction_interval\"] = res_dict[\"prediction_interval\"]\n",
    "except:\n",
    "    print(res_dict)"
   ]
  },
  {
   "cell_type": "code",
   "execution_count": null,
   "metadata": {},
   "outputs": [],
   "source": [
    "y_fcst_all.head()"
   ]
  },
  {
   "cell_type": "markdown",
   "metadata": {},
   "source": [
    "### Delete the web service if desired"
   ]
  },
  {
   "cell_type": "code",
   "execution_count": null,
   "metadata": {},
   "outputs": [],
   "source": [
    "serv = Webservice(ws, \"automl-oj-forecast-01\")\n",
    "serv.delete()  # don't do it accidentally"
   ]
  }
 ],
 "metadata": {
  "authors": [
   {
    "name": "jialiu"
   }
  ],
  "category": "tutorial",
  "celltoolbar": "Raw Cell Format",
  "compute": [
   "Remote"
  ],
  "datasets": [
   "Orange Juice Sales"
  ],
  "deployment": [
   "Azure Container Instance"
  ],
  "exclude_from_index": false,
  "framework": [
   "Azure ML AutoML"
  ],
  "friendly_name": "Forecasting orange juice sales with deployment",
  "index_order": 1,
  "interpreter": {
   "hash": "a4c6afd7f173e0e931b0843fe6a0c2993fb0269572e807aff8dc4b63e60c94bb"
  },
  "kernelspec": {
   "display_name": "Python 3.6 - AzureML",
   "language": "python",
   "name": "python3"
  },
  "language_info": {
   "codemirror_mode": {
    "name": "ipython",
    "version": 3
   },
   "file_extension": ".py",
   "mimetype": "text/x-python",
   "name": "python",
   "nbconvert_exporter": "python",
   "pygments_lexer": "ipython3",
   "version": "3.7.3"
  },
  "tags": [
   "None"
  ],
  "task": "Forecasting"
 },
 "nbformat": 4,
 "nbformat_minor": 4
}
